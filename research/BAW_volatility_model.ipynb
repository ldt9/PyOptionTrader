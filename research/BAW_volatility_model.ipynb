{
 "cells": [
  {
   "cell_type": "code",
   "execution_count": 2,
   "outputs": [],
   "source": [
    "import BAW"
   ],
   "metadata": {
    "collapsed": false,
    "pycharm": {
     "name": "#%%\n"
    }
   }
  },
  {
   "cell_type": "code",
   "execution_count": 14,
   "outputs": [
    {
     "name": "stdout",
     "output_type": "stream",
     "text": [
      "0.6509983824827259\n",
      "0.636416386001315\n",
      "0.6216710684299187\n",
      "0.6067836708893992\n",
      "0.5917759092284314\n",
      "0.5766698744906762\n",
      "0.5614879322735078\n",
      "0.5462526212056673\n",
      "0.5309865511975431\n",
      "0.5157123023167287\n",
      "0.5004523256246785\n",
      "0.48522884547708145\n",
      "0.47006376527747307\n",
      "0.4549785763572345\n",
      "0.43999427076357733\n",
      "0.42513125929133366\n",
      "0.41040929369273726\n",
      "0.3958473951684027\n",
      "0.3814637883294836\n",
      "0.3672758411994437\n",
      "0.3533000121791474\n",
      "0.33955180303735233\n",
      "0.32604571887873135\n",
      "0.31279523506810847\n",
      "0.29981277037904874\n"
     ]
    }
   ],
   "source": [
    "for k in range(400, 425, 1 ):\n",
    "    option_style_flag = 'American'\n",
    "    output_flag = 'Delta'\n",
    "    option_type_flag = 'Call'\n",
    "    spot_price = 409.19\n",
    "    strike_price = k\n",
    "    expiration_time_in_years = 48/365\n",
    "    interest_rate_dec_pa = 0.0001\n",
    "    carry_rate_dec_pa = 0.0001\n",
    "    volatility_dec_pa = 0.176\n",
    "\n",
    "    spy = BAW.getValue(option_style_flag, output_flag, option_type_flag, spot_price, strike_price, expiration_time_in_years, interest_rate_dec_pa, carry_rate_dec_pa, volatility_dec_pa)\n",
    "    print(spy)"
   ],
   "metadata": {
    "collapsed": false,
    "pycharm": {
     "name": "#%%\n"
    }
   }
  },
  {
   "cell_type": "code",
   "execution_count": null,
   "outputs": [],
   "source": [],
   "metadata": {
    "collapsed": false,
    "pycharm": {
     "name": "#%%\n"
    }
   }
  }
 ],
 "metadata": {
  "kernelspec": {
   "display_name": "Python 3",
   "language": "python",
   "name": "python3"
  },
  "language_info": {
   "codemirror_mode": {
    "name": "ipython",
    "version": 2
   },
   "file_extension": ".py",
   "mimetype": "text/x-python",
   "name": "python",
   "nbconvert_exporter": "python",
   "pygments_lexer": "ipython2",
   "version": "2.7.6"
  }
 },
 "nbformat": 4,
 "nbformat_minor": 0
}