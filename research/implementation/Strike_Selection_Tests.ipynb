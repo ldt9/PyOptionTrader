{
 "cells": [
  {
   "cell_type": "markdown",
   "source": [
    "## Connect to IB Gateway\n",
    "\n",
    "`util.startLoop()` is required to run the event loop in a separate thread. This is needed for the `ib.sleep()` function to work.\n",
    "TODO: change localhost to server IP"
   ],
   "metadata": {
    "collapsed": false,
    "pycharm": {
     "name": "#%% md\n"
    }
   }
  },
  {
   "cell_type": "code",
   "execution_count": 3,
   "outputs": [
    {
     "ename": "KeyboardInterrupt",
     "evalue": "",
     "output_type": "error",
     "traceback": [
      "\u001B[1;31m---------------------------------------------------------------------------\u001B[0m",
      "\u001B[1;31mKeyboardInterrupt\u001B[0m                         Traceback (most recent call last)",
      "Cell \u001B[1;32mIn[3], line 7\u001B[0m\n\u001B[0;32m      4\u001B[0m util\u001B[38;5;241m.\u001B[39mstartLoop()\n\u001B[0;32m      6\u001B[0m ib \u001B[38;5;241m=\u001B[39m IB()\n\u001B[1;32m----> 7\u001B[0m \u001B[43mib\u001B[49m\u001B[38;5;241;43m.\u001B[39;49m\u001B[43mconnect\u001B[49m\u001B[43m(\u001B[49m\u001B[38;5;124;43m'\u001B[39;49m\u001B[38;5;124;43mlocalhost\u001B[39;49m\u001B[38;5;124;43m'\u001B[39;49m\u001B[43m,\u001B[49m\u001B[43m \u001B[49m\u001B[38;5;241;43m4002\u001B[39;49m\u001B[43m,\u001B[49m\u001B[43m \u001B[49m\u001B[43mclientId\u001B[49m\u001B[38;5;241;43m=\u001B[39;49m\u001B[38;5;241;43m1\u001B[39;49m\u001B[43m)\u001B[49m\n",
      "File \u001B[1;32m~\\Documents\\Short Strangle IB\\venv_laptop\\lib\\site-packages\\ib_insync\\ib.py:269\u001B[0m, in \u001B[0;36mIB.connect\u001B[1;34m(self, host, port, clientId, timeout, readonly, account)\u001B[0m\n\u001B[0;32m    247\u001B[0m \u001B[38;5;28;01mdef\u001B[39;00m \u001B[38;5;21mconnect\u001B[39m(\n\u001B[0;32m    248\u001B[0m         \u001B[38;5;28mself\u001B[39m, host: \u001B[38;5;28mstr\u001B[39m \u001B[38;5;241m=\u001B[39m \u001B[38;5;124m'\u001B[39m\u001B[38;5;124m127.0.0.1\u001B[39m\u001B[38;5;124m'\u001B[39m, port: \u001B[38;5;28mint\u001B[39m \u001B[38;5;241m=\u001B[39m \u001B[38;5;241m7497\u001B[39m, clientId: \u001B[38;5;28mint\u001B[39m \u001B[38;5;241m=\u001B[39m \u001B[38;5;241m1\u001B[39m,\n\u001B[0;32m    249\u001B[0m         timeout: \u001B[38;5;28mfloat\u001B[39m \u001B[38;5;241m=\u001B[39m \u001B[38;5;241m4\u001B[39m, readonly: \u001B[38;5;28mbool\u001B[39m \u001B[38;5;241m=\u001B[39m \u001B[38;5;28;01mFalse\u001B[39;00m, account: \u001B[38;5;28mstr\u001B[39m \u001B[38;5;241m=\u001B[39m \u001B[38;5;124m'\u001B[39m\u001B[38;5;124m'\u001B[39m):\n\u001B[0;32m    250\u001B[0m \u001B[38;5;250m    \u001B[39m\u001B[38;5;124;03m\"\"\"\u001B[39;00m\n\u001B[0;32m    251\u001B[0m \u001B[38;5;124;03m    Connect to a running TWS or IB gateway application.\u001B[39;00m\n\u001B[0;32m    252\u001B[0m \u001B[38;5;124;03m    After the connection is made the client is fully synchronized\u001B[39;00m\n\u001B[1;32m   (...)\u001B[0m\n\u001B[0;32m    267\u001B[0m \u001B[38;5;124;03m        account: Main account to receive updates for.\u001B[39;00m\n\u001B[0;32m    268\u001B[0m \u001B[38;5;124;03m    \"\"\"\u001B[39;00m\n\u001B[1;32m--> 269\u001B[0m     \u001B[38;5;28;01mreturn\u001B[39;00m \u001B[38;5;28;43mself\u001B[39;49m\u001B[38;5;241;43m.\u001B[39;49m\u001B[43m_run\u001B[49m\u001B[43m(\u001B[49m\u001B[38;5;28;43mself\u001B[39;49m\u001B[38;5;241;43m.\u001B[39;49m\u001B[43mconnectAsync\u001B[49m\u001B[43m(\u001B[49m\n\u001B[0;32m    270\u001B[0m \u001B[43m        \u001B[49m\u001B[43mhost\u001B[49m\u001B[43m,\u001B[49m\u001B[43m \u001B[49m\u001B[43mport\u001B[49m\u001B[43m,\u001B[49m\u001B[43m \u001B[49m\u001B[43mclientId\u001B[49m\u001B[43m,\u001B[49m\u001B[43m \u001B[49m\u001B[43mtimeout\u001B[49m\u001B[43m,\u001B[49m\u001B[43m \u001B[49m\u001B[43mreadonly\u001B[49m\u001B[43m,\u001B[49m\u001B[43m \u001B[49m\u001B[43maccount\u001B[49m\u001B[43m)\u001B[49m\u001B[43m)\u001B[49m\n",
      "File \u001B[1;32m~\\Documents\\Short Strangle IB\\venv_laptop\\lib\\site-packages\\ib_insync\\ib.py:308\u001B[0m, in \u001B[0;36mIB._run\u001B[1;34m(self, *awaitables)\u001B[0m\n\u001B[0;32m    307\u001B[0m \u001B[38;5;28;01mdef\u001B[39;00m \u001B[38;5;21m_run\u001B[39m(\u001B[38;5;28mself\u001B[39m, \u001B[38;5;241m*\u001B[39mawaitables: Awaitable):\n\u001B[1;32m--> 308\u001B[0m     \u001B[38;5;28;01mreturn\u001B[39;00m \u001B[43mutil\u001B[49m\u001B[38;5;241;43m.\u001B[39;49m\u001B[43mrun\u001B[49m\u001B[43m(\u001B[49m\u001B[38;5;241;43m*\u001B[39;49m\u001B[43mawaitables\u001B[49m\u001B[43m,\u001B[49m\u001B[43m \u001B[49m\u001B[43mtimeout\u001B[49m\u001B[38;5;241;43m=\u001B[39;49m\u001B[38;5;28;43mself\u001B[39;49m\u001B[38;5;241;43m.\u001B[39;49m\u001B[43mRequestTimeout\u001B[49m\u001B[43m)\u001B[49m\n",
      "File \u001B[1;32m~\\Documents\\Short Strangle IB\\venv_laptop\\lib\\site-packages\\ib_insync\\util.py:341\u001B[0m, in \u001B[0;36mrun\u001B[1;34m(timeout, *awaitables)\u001B[0m\n\u001B[0;32m    339\u001B[0m globalErrorEvent\u001B[38;5;241m.\u001B[39mconnect(onError)\n\u001B[0;32m    340\u001B[0m \u001B[38;5;28;01mtry\u001B[39;00m:\n\u001B[1;32m--> 341\u001B[0m     result \u001B[38;5;241m=\u001B[39m \u001B[43mloop\u001B[49m\u001B[38;5;241;43m.\u001B[39;49m\u001B[43mrun_until_complete\u001B[49m\u001B[43m(\u001B[49m\u001B[43mtask\u001B[49m\u001B[43m)\u001B[49m\n\u001B[0;32m    342\u001B[0m \u001B[38;5;28;01mexcept\u001B[39;00m asyncio\u001B[38;5;241m.\u001B[39mCancelledError \u001B[38;5;28;01mas\u001B[39;00m e:\n\u001B[0;32m    343\u001B[0m     \u001B[38;5;28;01mraise\u001B[39;00m globalErrorEvent\u001B[38;5;241m.\u001B[39mvalue() \u001B[38;5;129;01mor\u001B[39;00m e\n",
      "File \u001B[1;32m~\\Documents\\Short Strangle IB\\venv_laptop\\lib\\site-packages\\nest_asyncio.py:84\u001B[0m, in \u001B[0;36m_patch_loop.<locals>.run_until_complete\u001B[1;34m(self, future)\u001B[0m\n\u001B[0;32m     82\u001B[0m     f\u001B[38;5;241m.\u001B[39m_log_destroy_pending \u001B[38;5;241m=\u001B[39m \u001B[38;5;28;01mFalse\u001B[39;00m\n\u001B[0;32m     83\u001B[0m \u001B[38;5;28;01mwhile\u001B[39;00m \u001B[38;5;129;01mnot\u001B[39;00m f\u001B[38;5;241m.\u001B[39mdone():\n\u001B[1;32m---> 84\u001B[0m     \u001B[38;5;28;43mself\u001B[39;49m\u001B[38;5;241;43m.\u001B[39;49m\u001B[43m_run_once\u001B[49m\u001B[43m(\u001B[49m\u001B[43m)\u001B[49m\n\u001B[0;32m     85\u001B[0m     \u001B[38;5;28;01mif\u001B[39;00m \u001B[38;5;28mself\u001B[39m\u001B[38;5;241m.\u001B[39m_stopping:\n\u001B[0;32m     86\u001B[0m         \u001B[38;5;28;01mbreak\u001B[39;00m\n",
      "File \u001B[1;32m~\\Documents\\Short Strangle IB\\venv_laptop\\lib\\site-packages\\nest_asyncio.py:107\u001B[0m, in \u001B[0;36m_patch_loop.<locals>._run_once\u001B[1;34m(self)\u001B[0m\n\u001B[0;32m    100\u001B[0m     heappop(scheduled)\n\u001B[0;32m    102\u001B[0m timeout \u001B[38;5;241m=\u001B[39m (\n\u001B[0;32m    103\u001B[0m     \u001B[38;5;241m0\u001B[39m \u001B[38;5;28;01mif\u001B[39;00m ready \u001B[38;5;129;01mor\u001B[39;00m \u001B[38;5;28mself\u001B[39m\u001B[38;5;241m.\u001B[39m_stopping\n\u001B[0;32m    104\u001B[0m     \u001B[38;5;28;01melse\u001B[39;00m \u001B[38;5;28mmin\u001B[39m(\u001B[38;5;28mmax\u001B[39m(\n\u001B[0;32m    105\u001B[0m         scheduled[\u001B[38;5;241m0\u001B[39m]\u001B[38;5;241m.\u001B[39m_when \u001B[38;5;241m-\u001B[39m \u001B[38;5;28mself\u001B[39m\u001B[38;5;241m.\u001B[39mtime(), \u001B[38;5;241m0\u001B[39m), \u001B[38;5;241m86400\u001B[39m) \u001B[38;5;28;01mif\u001B[39;00m scheduled\n\u001B[0;32m    106\u001B[0m     \u001B[38;5;28;01melse\u001B[39;00m \u001B[38;5;28;01mNone\u001B[39;00m)\n\u001B[1;32m--> 107\u001B[0m event_list \u001B[38;5;241m=\u001B[39m \u001B[38;5;28;43mself\u001B[39;49m\u001B[38;5;241;43m.\u001B[39;49m\u001B[43m_selector\u001B[49m\u001B[38;5;241;43m.\u001B[39;49m\u001B[43mselect\u001B[49m\u001B[43m(\u001B[49m\u001B[43mtimeout\u001B[49m\u001B[43m)\u001B[49m\n\u001B[0;32m    108\u001B[0m \u001B[38;5;28mself\u001B[39m\u001B[38;5;241m.\u001B[39m_process_events(event_list)\n\u001B[0;32m    110\u001B[0m end_time \u001B[38;5;241m=\u001B[39m \u001B[38;5;28mself\u001B[39m\u001B[38;5;241m.\u001B[39mtime() \u001B[38;5;241m+\u001B[39m \u001B[38;5;28mself\u001B[39m\u001B[38;5;241m.\u001B[39m_clock_resolution\n",
      "File \u001B[1;32m~\\AppData\\Local\\Programs\\Python\\Python39\\lib\\selectors.py:324\u001B[0m, in \u001B[0;36mSelectSelector.select\u001B[1;34m(self, timeout)\u001B[0m\n\u001B[0;32m    322\u001B[0m ready \u001B[38;5;241m=\u001B[39m []\n\u001B[0;32m    323\u001B[0m \u001B[38;5;28;01mtry\u001B[39;00m:\n\u001B[1;32m--> 324\u001B[0m     r, w, _ \u001B[38;5;241m=\u001B[39m \u001B[38;5;28;43mself\u001B[39;49m\u001B[38;5;241;43m.\u001B[39;49m\u001B[43m_select\u001B[49m\u001B[43m(\u001B[49m\u001B[38;5;28;43mself\u001B[39;49m\u001B[38;5;241;43m.\u001B[39;49m\u001B[43m_readers\u001B[49m\u001B[43m,\u001B[49m\u001B[43m \u001B[49m\u001B[38;5;28;43mself\u001B[39;49m\u001B[38;5;241;43m.\u001B[39;49m\u001B[43m_writers\u001B[49m\u001B[43m,\u001B[49m\u001B[43m \u001B[49m\u001B[43m[\u001B[49m\u001B[43m]\u001B[49m\u001B[43m,\u001B[49m\u001B[43m \u001B[49m\u001B[43mtimeout\u001B[49m\u001B[43m)\u001B[49m\n\u001B[0;32m    325\u001B[0m \u001B[38;5;28;01mexcept\u001B[39;00m \u001B[38;5;167;01mInterruptedError\u001B[39;00m:\n\u001B[0;32m    326\u001B[0m     \u001B[38;5;28;01mreturn\u001B[39;00m ready\n",
      "File \u001B[1;32m~\\AppData\\Local\\Programs\\Python\\Python39\\lib\\selectors.py:315\u001B[0m, in \u001B[0;36mSelectSelector._select\u001B[1;34m(self, r, w, _, timeout)\u001B[0m\n\u001B[0;32m    314\u001B[0m \u001B[38;5;28;01mdef\u001B[39;00m \u001B[38;5;21m_select\u001B[39m(\u001B[38;5;28mself\u001B[39m, r, w, _, timeout\u001B[38;5;241m=\u001B[39m\u001B[38;5;28;01mNone\u001B[39;00m):\n\u001B[1;32m--> 315\u001B[0m     r, w, x \u001B[38;5;241m=\u001B[39m \u001B[43mselect\u001B[49m\u001B[38;5;241;43m.\u001B[39;49m\u001B[43mselect\u001B[49m\u001B[43m(\u001B[49m\u001B[43mr\u001B[49m\u001B[43m,\u001B[49m\u001B[43m \u001B[49m\u001B[43mw\u001B[49m\u001B[43m,\u001B[49m\u001B[43m \u001B[49m\u001B[43mw\u001B[49m\u001B[43m,\u001B[49m\u001B[43m \u001B[49m\u001B[43mtimeout\u001B[49m\u001B[43m)\u001B[49m\n\u001B[0;32m    316\u001B[0m     \u001B[38;5;28;01mreturn\u001B[39;00m r, w \u001B[38;5;241m+\u001B[39m x, []\n",
      "\u001B[1;31mKeyboardInterrupt\u001B[0m: "
     ]
    }
   ],
   "source": [
    "import time\n",
    "\n",
    "from ib_insync import *\n",
    "util.startLoop()\n",
    "\n",
    "ib = IB()\n",
    "ib.connect('localhost', 4002, clientId=1)"
   ],
   "metadata": {
    "collapsed": false,
    "pycharm": {
     "name": "#%%\n"
    }
   }
  },
  {
   "cell_type": "markdown",
   "source": [
    "## Check IB Gateway connection|"
   ],
   "metadata": {
    "collapsed": false,
    "pycharm": {
     "name": "#%% md\n"
    }
   }
  },
  {
   "cell_type": "code",
   "execution_count": null,
   "outputs": [],
   "source": [
    "ib.isConnected()"
   ],
   "metadata": {
    "collapsed": false,
    "pycharm": {
     "name": "#%%\n"
    }
   }
  },
  {
   "cell_type": "markdown",
   "source": [
    "## Check ability to disconnect"
   ],
   "metadata": {
    "collapsed": false,
    "pycharm": {
     "name": "#%% md\n"
    }
   }
  },
  {
   "cell_type": "code",
   "execution_count": null,
   "outputs": [],
   "source": [
    "ib.disconnect()\n",
    "ib.isConnected()"
   ],
   "metadata": {
    "collapsed": false,
    "pycharm": {
     "name": "#%%\n"
    }
   }
  },
  {
   "cell_type": "markdown",
   "source": [
    "# Reconnect"
   ],
   "metadata": {
    "collapsed": false,
    "pycharm": {
     "name": "#%% md\n"
    }
   }
  },
  {
   "cell_type": "code",
   "execution_count": 5,
   "outputs": [
    {
     "data": {
      "text/plain": "<IB connected to localhost:7497 clientId=101>"
     },
     "execution_count": 5,
     "metadata": {},
     "output_type": "execute_result"
    }
   ],
   "source": [
    "ib.connect('localhost', 7497, clientId=101)"
   ],
   "metadata": {
    "collapsed": false,
    "pycharm": {
     "name": "#%%\n"
    }
   }
  },
  {
   "cell_type": "markdown",
   "source": [
    "# Get account summary"
   ],
   "metadata": {
    "collapsed": false,
    "pycharm": {
     "name": "#%% md\n"
    }
   }
  },
  {
   "cell_type": "code",
   "execution_count": 6,
   "outputs": [
    {
     "data": {
      "text/plain": "[AccountValue(account='DU6339390', tag='AccountType', value='INDIVIDUAL', currency='', modelCode=''),\n AccountValue(account='DU6339390', tag='Cushion', value='1', currency='', modelCode=''),\n AccountValue(account='DU6339390', tag='DayTradesRemaining', value='-1', currency='', modelCode=''),\n AccountValue(account='DU6339390', tag='DayTradesRemainingT+1', value='-1', currency='', modelCode=''),\n AccountValue(account='DU6339390', tag='DayTradesRemainingT+2', value='-1', currency='', modelCode=''),\n AccountValue(account='DU6339390', tag='DayTradesRemainingT+3', value='-1', currency='', modelCode=''),\n AccountValue(account='DU6339390', tag='DayTradesRemainingT+4', value='-1', currency='', modelCode=''),\n AccountValue(account='DU6339390', tag='LookAheadNextChange', value='0', currency='', modelCode=''),\n AccountValue(account='DU6339390', tag='AccruedCash', value='3448.74', currency='USD', modelCode=''),\n AccountValue(account='DU6339390', tag='AvailableFunds', value='1012580.10', currency='USD', modelCode=''),\n AccountValue(account='DU6339390', tag='BuyingPower', value='4050320.40', currency='USD', modelCode=''),\n AccountValue(account='DU6339390', tag='EquityWithLoanValue', value='1012580.10', currency='USD', modelCode=''),\n AccountValue(account='DU6339390', tag='ExcessLiquidity', value='1012580.10', currency='USD', modelCode=''),\n AccountValue(account='DU6339390', tag='FullAvailableFunds', value='1012580.10', currency='USD', modelCode=''),\n AccountValue(account='DU6339390', tag='FullExcessLiquidity', value='1012580.10', currency='USD', modelCode=''),\n AccountValue(account='DU6339390', tag='FullInitMarginReq', value='0.00', currency='USD', modelCode=''),\n AccountValue(account='DU6339390', tag='FullMaintMarginReq', value='0.00', currency='USD', modelCode=''),\n AccountValue(account='DU6339390', tag='GrossPositionValue', value='0.00', currency='USD', modelCode=''),\n AccountValue(account='DU6339390', tag='InitMarginReq', value='0.00', currency='USD', modelCode=''),\n AccountValue(account='DU6339390', tag='LookAheadAvailableFunds', value='1012580.10', currency='USD', modelCode=''),\n AccountValue(account='DU6339390', tag='LookAheadExcessLiquidity', value='1012580.10', currency='USD', modelCode=''),\n AccountValue(account='DU6339390', tag='LookAheadInitMarginReq', value='0.00', currency='USD', modelCode=''),\n AccountValue(account='DU6339390', tag='LookAheadMaintMarginReq', value='0.00', currency='USD', modelCode=''),\n AccountValue(account='DU6339390', tag='MaintMarginReq', value='0.00', currency='USD', modelCode=''),\n AccountValue(account='DU6339390', tag='NetLiquidation', value='1012580.10', currency='USD', modelCode=''),\n AccountValue(account='DU6339390', tag='SMA', value='1012580.10', currency='USD', modelCode=''),\n AccountValue(account='DU6339390', tag='TotalCashValue', value='1009131.36', currency='USD', modelCode=''),\n AccountValue(account='All', tag='Currency', value='USD', currency='USD', modelCode=''),\n AccountValue(account='All', tag='CashBalance', value='1009131.36', currency='USD', modelCode=''),\n AccountValue(account='All', tag='TotalCashBalance', value='1009131.36', currency='USD', modelCode=''),\n AccountValue(account='All', tag='AccruedCash', value='3448.74', currency='USD', modelCode=''),\n AccountValue(account='All', tag='StockMarketValue', value='0.00', currency='USD', modelCode=''),\n AccountValue(account='All', tag='OptionMarketValue', value='0.00', currency='USD', modelCode=''),\n AccountValue(account='All', tag='FutureOptionValue', value='0.00', currency='USD', modelCode=''),\n AccountValue(account='All', tag='FuturesPNL', value='0.00', currency='USD', modelCode=''),\n AccountValue(account='All', tag='NetLiquidationByCurrency', value='1012580.10', currency='USD', modelCode=''),\n AccountValue(account='All', tag='UnrealizedPnL', value='0.00', currency='USD', modelCode=''),\n AccountValue(account='All', tag='RealizedPnL', value='0.00', currency='USD', modelCode=''),\n AccountValue(account='All', tag='ExchangeRate', value='1.00', currency='USD', modelCode=''),\n AccountValue(account='All', tag='FundValue', value='0.00', currency='USD', modelCode=''),\n AccountValue(account='All', tag='NetDividend', value='0.00', currency='USD', modelCode=''),\n AccountValue(account='All', tag='MutualFundValue', value='0.00', currency='USD', modelCode=''),\n AccountValue(account='All', tag='MoneyMarketFundValue', value='0.00', currency='USD', modelCode=''),\n AccountValue(account='All', tag='CorporateBondValue', value='0.00', currency='USD', modelCode=''),\n AccountValue(account='All', tag='TBondValue', value='0.00', currency='USD', modelCode=''),\n AccountValue(account='All', tag='TBillValue', value='0.00', currency='USD', modelCode=''),\n AccountValue(account='All', tag='WarrantValue', value='0.00', currency='USD', modelCode=''),\n AccountValue(account='All', tag='FxCashBalance', value='0.00', currency='USD', modelCode=''),\n AccountValue(account='All', tag='AccountOrGroup', value='All', currency='USD', modelCode=''),\n AccountValue(account='All', tag='RealCurrency', value='USD', currency='USD', modelCode=''),\n AccountValue(account='All', tag='IssuerOptionValue', value='0.00', currency='USD', modelCode=''),\n AccountValue(account='All', tag='Cryptocurrency', value='', currency='USD', modelCode=''),\n AccountValue(account='All', tag='Currency', value='BASE', currency='BASE', modelCode=''),\n AccountValue(account='All', tag='CashBalance', value='1009131.36', currency='BASE', modelCode=''),\n AccountValue(account='All', tag='TotalCashBalance', value='1009131.36', currency='BASE', modelCode=''),\n AccountValue(account='All', tag='AccruedCash', value='3448.74', currency='BASE', modelCode=''),\n AccountValue(account='All', tag='StockMarketValue', value='0.00', currency='BASE', modelCode=''),\n AccountValue(account='All', tag='OptionMarketValue', value='0.00', currency='BASE', modelCode=''),\n AccountValue(account='All', tag='FutureOptionValue', value='0.00', currency='BASE', modelCode=''),\n AccountValue(account='All', tag='FuturesPNL', value='0.00', currency='BASE', modelCode=''),\n AccountValue(account='All', tag='NetLiquidationByCurrency', value='1012580.10', currency='BASE', modelCode=''),\n AccountValue(account='All', tag='UnrealizedPnL', value='0.00', currency='BASE', modelCode=''),\n AccountValue(account='All', tag='RealizedPnL', value='0.00', currency='BASE', modelCode=''),\n AccountValue(account='All', tag='ExchangeRate', value='1.00', currency='BASE', modelCode=''),\n AccountValue(account='All', tag='FundValue', value='0.00', currency='BASE', modelCode=''),\n AccountValue(account='All', tag='NetDividend', value='0.00', currency='BASE', modelCode=''),\n AccountValue(account='All', tag='MutualFundValue', value='0.00', currency='BASE', modelCode=''),\n AccountValue(account='All', tag='MoneyMarketFundValue', value='0.00', currency='BASE', modelCode=''),\n AccountValue(account='All', tag='CorporateBondValue', value='0.00', currency='BASE', modelCode=''),\n AccountValue(account='All', tag='TBondValue', value='0.00', currency='BASE', modelCode=''),\n AccountValue(account='All', tag='TBillValue', value='0.00', currency='BASE', modelCode=''),\n AccountValue(account='All', tag='WarrantValue', value='0.00', currency='BASE', modelCode=''),\n AccountValue(account='All', tag='FxCashBalance', value='0.00', currency='BASE', modelCode=''),\n AccountValue(account='All', tag='AccountOrGroup', value='All', currency='BASE', modelCode=''),\n AccountValue(account='All', tag='RealCurrency', value='BASE', currency='BASE', modelCode=''),\n AccountValue(account='All', tag='IssuerOptionValue', value='0.00', currency='BASE', modelCode=''),\n AccountValue(account='All', tag='Cryptocurrency', value='', currency='BASE', modelCode='')]"
     },
     "execution_count": 6,
     "metadata": {},
     "output_type": "execute_result"
    }
   ],
   "source": [
    "accountSummary = ib.accountSummary()\n",
    "accountSummary"
   ],
   "metadata": {
    "collapsed": false,
    "pycharm": {
     "name": "#%%\n"
    }
   }
  },
  {
   "cell_type": "code",
   "execution_count": 14,
   "outputs": [
    {
     "data": {
      "text/plain": "'DU6339390'"
     },
     "execution_count": 14,
     "metadata": {},
     "output_type": "execute_result"
    }
   ],
   "source": [
    "# verify we are trading a paper account\n",
    "accountSummary[0].account\n",
    "# 'DU6339390' is my paper trading account with IB"
   ],
   "metadata": {
    "collapsed": false,
    "pycharm": {
     "name": "#%%\n"
    }
   }
  },
  {
   "cell_type": "markdown",
   "source": [
    "# Lets Request some historical data"
   ],
   "metadata": {
    "collapsed": false,
    "pycharm": {
     "name": "#%% md\n"
    }
   }
  },
  {
   "cell_type": "code",
   "execution_count": null,
   "outputs": [],
   "source": [
    "import numpy as np\n",
    "bars_spy = ib.reqHistoricalData(\n",
    "            contract=Stock('SPY', 'SMART', 'USD'),\n",
    "            endDateTime='',\n",
    "            durationStr='60 s',\n",
    "            barSizeSetting='1 secs',\n",
    "            whatToShow='MIDPOINT',\n",
    "            useRTH=True,\n",
    "            formatDate=1)\n",
    "df_spy = util.df(bars_spy)\n",
    "avg_price = round(np.nanmean(df_spy['close']), 2)"
   ],
   "metadata": {
    "collapsed": false,
    "pycharm": {
     "name": "#%%\n"
    }
   }
  },
  {
   "cell_type": "code",
   "execution_count": null,
   "outputs": [],
   "source": [
    "# helper function to round to nearest multiple\n",
    "def round_to_multiple(number, multiple, direction=\"up\"):\n",
    "    if direction == \"up\":\n",
    "        return int(np.ceil(number / multiple)) * multiple\n",
    "    elif direction == \"down\":\n",
    "        return int(np.floor(number / multiple)) * multiple\n",
    "    else:\n",
    "        raise ValueError(\"direction must be either up or down\")"
   ],
   "metadata": {
    "collapsed": false,
    "pycharm": {
     "name": "#%%\n"
    }
   }
  },
  {
   "cell_type": "code",
   "execution_count": null,
   "outputs": [],
   "source": [
    "# helper function to get the nearest 45 DTE expiration\n",
    "import datetime\n",
    "def getDaysToNearest45DTE():\n",
    "    spy = Stock('SPY', 'SMART', 'USD')\n",
    "    ib.qualifyContracts(spy)\n",
    "    ib.reqMarketDataType(4)\n",
    "\n",
    "    chains = ib.reqSecDefOptParams(spy.symbol, '', spy.secType, spy.conId)\n",
    "    chain = next(c for c in chains if c.exchange == 'SMART')\n",
    "\n",
    "    # get the nearest monthly expiration\n",
    "    today = datetime.date.today()\n",
    "    targetDTE = today + datetime.timedelta(days=45)\n",
    "\n",
    "    # convert chain.expirations to datetime.date\n",
    "    expire = [datetime.datetime.strptime(exp, '%Y%m%d').date() for exp in chain.expirations]\n",
    "\n",
    "    # find the nearest monthly expiration in chain.expirations to targetDTE\n",
    "    nearestDTE = min(expire, key=lambda x: abs(x - targetDTE))\n",
    "\n",
    "    # find the number of days until the nearest monthly expiration\n",
    "    daysToexp = (nearestDTE - today).days/365\n",
    "\n",
    "    return daysToexp, nearestDTE"
   ],
   "metadata": {
    "collapsed": false,
    "pycharm": {
     "name": "#%%\n"
    }
   }
  },
  {
   "cell_type": "code",
   "execution_count": null,
   "outputs": [],
   "source": [
    "# helper function to get spot price of underlying\n",
    "def getSpotPrice(stockName):\n",
    "    # get the current price of ticker until we have access to historical data\n",
    "    stock = Stock(stockName, 'SMART', 'USD')\n",
    "    ib.qualifyContracts(stock)\n",
    "\n",
    "    ib.reqMarketDataType(4)\n",
    "    [ticker] = ib.reqTickers(stock)\n",
    "    return ticker.marketPrice()"
   ],
   "metadata": {
    "collapsed": false,
    "pycharm": {
     "name": "#%%\n"
    }
   }
  },
  {
   "cell_type": "code",
   "execution_count": null,
   "outputs": [],
   "source": [
    "# helper function to get 16 delta call\n",
    "def getCalltoSell(delta):\n",
    "    spotSPY = getSpotPrice('SPY')\n",
    "    currentIV = getSpotPrice('VIX')/100  # or spy_iv from py_vollib or IV from ib_insync\n",
    "    # spy_iv = implied_volatility(ATMOptionPrice, spy_price, ATMStrike, DTE/365, ir=0.00, 0.00, 'c')\n",
    "    # print(\"Implied volatility of SPY: \", spy_iv)\n",
    "    # spy_iv = ib.calculateImpliedVolatility(Option('SPY', '20201218', 350, 'C', 'SMART'), 350)\n",
    "    annualTime, expiration = getDaysToNearest45DTE()\n",
    "    ir = 0.00\n",
    "\n",
    "    for i in range(0, 1000):\n",
    "        df = pd.DataFrame()\n",
    "        df['Flag'] = ['c']        # 'c' for call, 'p' for put\n",
    "        df['S'] = spotSPY         # Underlying asset price\n",
    "        df['K'] = [spotSPY + i]   # Strike(s)\n",
    "        df['T'] = annualTime            # (Annualized) time-to-expiration\n",
    "        df['R'] = ir              # Interest free rate\n",
    "        df['IV'] = currentIV      # Implied Volatility\n",
    "        result = price_dataframe(df, flag_col='Flag', underlying_price_col='S', strike_col='K', annualized_tte_col='T',\n",
    "                             riskfree_rate_col='R', sigma_col='IV', model='black_scholes', inplace=False)\n",
    "        if result['delta'][0] <= delta:\n",
    "            # print(result['delta'])\n",
    "            # print(round_to_multiple(df['K'][0],5,\"up\"))\n",
    "            callToSell = round_to_multiple(df['K'][0],5,\"up\")\n",
    "            # print(df['K'][0])\n",
    "            break\n",
    "\n",
    "    return callToSell"
   ],
   "metadata": {
    "collapsed": false,
    "pycharm": {
     "name": "#%%\n"
    }
   }
  },
  {
   "cell_type": "code",
   "execution_count": null,
   "outputs": [],
   "source": [
    "# helper function to get 16 delta put\n",
    "import pandas as pd\n",
    "import numpy as np\n",
    "from py_vollib_vectorized import price_dataframe\n",
    "\n",
    "def getPuttoSell(delta):\n",
    "    spotSPY = getSpotPrice('SPY')\n",
    "    currentIV = getSpotPrice('VIX')/100  # or spy_iv from py_vollib\n",
    "    # calculate the implied volatility of the current price of SPY\n",
    "    # spy_iv = implied_volatility(ATMOptionPrice, spy_price, ATMStrike, DTE/365, ir=0.00, 0.00, 'c')\n",
    "    # print(\"Implied volatility of SPY: \", spy_iv)\n",
    "    annualTime, expiration = getDaysToNearest45DTE()\n",
    "    ir = 0.00\n",
    "\n",
    "    for i in range(0, 1000):\n",
    "        df = pd.DataFrame()\n",
    "        df['Flag'] = ['p']        # 'c' for call, 'p' for put\n",
    "        df['S'] = spotSPY         # Underlying asset price\n",
    "        df['K'] = [spotSPY - i]   # Strike(s)\n",
    "        df['T'] = annualTime            # (Annualized) time-to-expiration\n",
    "        df['R'] = ir              # Interest free rate\n",
    "        df['IV'] = currentIV      # Implied Volatility\n",
    "        result = price_dataframe(df, flag_col='Flag', underlying_price_col='S', strike_col='K', annualized_tte_col='T',\n",
    "                             riskfree_rate_col='R', sigma_col='IV', model='black_scholes', inplace=False)\n",
    "        if result['delta'][0] >= -1*delta:\n",
    "            # print(result['delta'])\n",
    "            # print(round_to_multiple(df['K'][0],5,\"down\"))\n",
    "            putToSell = round_to_multiple(df['K'][0],5,\"down\")\n",
    "            # print(df['K'][0])\n",
    "            break\n",
    "\n",
    "    return putToSell"
   ],
   "metadata": {
    "collapsed": false,
    "pycharm": {
     "name": "#%%\n"
    }
   }
  },
  {
   "cell_type": "markdown",
   "source": [
    "# Use Py_vollib to calculate the implied volatility of the current price of SPY\n",
    "### We will use this to calculate the strike prices for our strangle"
   ],
   "metadata": {
    "collapsed": false,
    "pycharm": {
     "name": "#%% md\n"
    }
   }
  },
  {
   "cell_type": "code",
   "execution_count": null,
   "outputs": [],
   "source": [
    "from py_vollib.black_scholes_merton.implied_volatility import implied_volatility\n",
    "from py_vollib.black_scholes_merton.greeks.analytical import delta\n",
    "from py_vollib.black_scholes_merton import black_scholes_merton as bsm\n",
    "from scipy.stats import norm\n",
    "import math\n",
    "\n",
    "# Pseudo code for now until we have the data\n",
    "\n",
    "# calculate the implied volatility of the current price of SPY\n",
    "spy_iv = implied_volatility(ATMOptionPrice, spy_price, ATMStrike, DTE/365, ir=0.00, 0.00, 'c')\n",
    "print(\"Implied volatility of SPY: \", spy_iv)"
   ],
   "metadata": {
    "collapsed": false,
    "pycharm": {
     "name": "#%%\n"
    }
   }
  },
  {
   "cell_type": "markdown",
   "source": [
    "# Demostating in pseudo code how to create a bag of contracts so it all executes at once"
   ],
   "metadata": {
    "collapsed": false,
    "pycharm": {
     "name": "#%% md\n"
    }
   }
  },
  {
   "cell_type": "code",
   "execution_count": null,
   "outputs": [],
   "source": [
    "contract = Contract()\n",
    "contract.symbol = spy_call.symbol\n",
    "contract.secType = 'BAG'\n",
    "contract.currency = spy_call.currency\n",
    "contract.exchange = spy_call.exchange\n",
    "\n",
    "leg1 = ComboLeg()\n",
    "leg1.conId = spy_call.conId\n",
    "leg1.ratio = 1\n",
    "leg1.action = 'SELL'\n",
    "leg1.exchange = spy_call.exchange\n",
    "\n",
    "leg2 = ComboLeg()\n",
    "leg2.conId = spy_put.conId\n",
    "leg2.ratio = 1\n",
    "leg2.action = 'SELL'\n",
    "leg2.exchange = spy_put.exchange\n",
    "\n",
    "contract.comboLegs = [leg1, leg2]"
   ],
   "metadata": {
    "collapsed": false,
    "pycharm": {
     "name": "#%%\n"
    }
   }
  },
  {
   "cell_type": "markdown",
   "source": [
    "# Get the price of the bag and make it a market order"
   ],
   "metadata": {
    "collapsed": false,
    "pycharm": {
     "name": "#%% md\n"
    }
   }
  },
  {
   "cell_type": "code",
   "execution_count": null,
   "outputs": [],
   "source": [
    "bars = ib.reqHistoricalData(\n",
    "            contract=contract,\n",
    "            endDateTime='',\n",
    "            durationStr='60 s',\n",
    "            barSizeSetting='1 secs',\n",
    "            whatToShow='TRADES',\n",
    "            useRTH=True,\n",
    "            formatDate=1)\n",
    "df = util.df(bars)\n",
    "avg_price = round(np.nanmean(df['close']), 2)"
   ],
   "metadata": {
    "collapsed": false,
    "pycharm": {
     "name": "#%%\n"
    }
   }
  },
  {
   "cell_type": "code",
   "execution_count": null,
   "outputs": [],
   "source": [
    "order = LimitOrder('BUY', 1, round(avg_price*0.995,2), tif='DAY', account = accountSummary[0].account)\n",
    "trade = ib.placeOrder(contract, order)\n",
    "print(trade)\n",
    "time.sleep(5)\n",
    "ib.disconnect()"
   ],
   "metadata": {
    "collapsed": false,
    "pycharm": {
     "name": "#%%\n"
    }
   }
  }
 ],
 "metadata": {
  "kernelspec": {
   "display_name": "Python 3",
   "language": "python",
   "name": "python3"
  },
  "language_info": {
   "codemirror_mode": {
    "name": "ipython",
    "version": 2
   },
   "file_extension": ".py",
   "mimetype": "text/x-python",
   "name": "python",
   "nbconvert_exporter": "python",
   "pygments_lexer": "ipython2",
   "version": "2.7.6"
  }
 },
 "nbformat": 4,
 "nbformat_minor": 0
}