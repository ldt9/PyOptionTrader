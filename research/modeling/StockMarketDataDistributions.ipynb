{
 "nbformat": 4,
 "nbformat_minor": 0,
 "metadata": {
  "colab": {
   "provenance": []
  },
  "kernelspec": {
   "name": "python3",
   "display_name": "Python 3"
  },
  "language_info": {
   "name": "python"
  }
 },
 "cells": [
  {
   "cell_type": "code",
   "source": [
    "!pip install yfinance"
   ],
   "metadata": {
    "colab": {
     "base_uri": "https://localhost:8080/"
    },
    "id": "eGDGMnYXvMfz",
    "outputId": "9a1b6615-bdea-48e6-cb26-42d5a68e2468",
    "pycharm": {
     "name": "#%%\n"
    }
   },
   "execution_count": null,
   "outputs": [
    {
     "output_type": "stream",
     "name": "stdout",
     "text": [
      "Looking in indexes: https://pypi.org/simple, https://us-python.pkg.dev/colab-wheels/public/simple/\n",
      "Requirement already satisfied: yfinance in /usr/local/lib/python3.9/dist-packages (0.2.14)\n",
      "Requirement already satisfied: cryptography>=3.3.2 in /usr/local/lib/python3.9/dist-packages (from yfinance) (40.0.1)\n",
      "Requirement already satisfied: frozendict>=2.3.4 in /usr/local/lib/python3.9/dist-packages (from yfinance) (2.3.6)\n",
      "Requirement already satisfied: beautifulsoup4>=4.11.1 in /usr/local/lib/python3.9/dist-packages (from yfinance) (4.11.2)\n",
      "Requirement already satisfied: pandas>=1.3.0 in /usr/local/lib/python3.9/dist-packages (from yfinance) (1.5.3)\n",
      "Requirement already satisfied: requests>=2.26 in /usr/local/lib/python3.9/dist-packages (from yfinance) (2.27.1)\n",
      "Requirement already satisfied: appdirs>=1.4.4 in /usr/local/lib/python3.9/dist-packages (from yfinance) (1.4.4)\n",
      "Requirement already satisfied: lxml>=4.9.1 in /usr/local/lib/python3.9/dist-packages (from yfinance) (4.9.2)\n",
      "Requirement already satisfied: html5lib>=1.1 in /usr/local/lib/python3.9/dist-packages (from yfinance) (1.1)\n",
      "Requirement already satisfied: pytz>=2022.5 in /usr/local/lib/python3.9/dist-packages (from yfinance) (2022.7.1)\n",
      "Requirement already satisfied: numpy>=1.16.5 in /usr/local/lib/python3.9/dist-packages (from yfinance) (1.22.4)\n",
      "Requirement already satisfied: multitasking>=0.0.7 in /usr/local/lib/python3.9/dist-packages (from yfinance) (0.0.11)\n",
      "Requirement already satisfied: soupsieve>1.2 in /usr/local/lib/python3.9/dist-packages (from beautifulsoup4>=4.11.1->yfinance) (2.4)\n",
      "Requirement already satisfied: cffi>=1.12 in /usr/local/lib/python3.9/dist-packages (from cryptography>=3.3.2->yfinance) (1.15.1)\n",
      "Requirement already satisfied: six>=1.9 in /usr/local/lib/python3.9/dist-packages (from html5lib>=1.1->yfinance) (1.16.0)\n",
      "Requirement already satisfied: webencodings in /usr/local/lib/python3.9/dist-packages (from html5lib>=1.1->yfinance) (0.5.1)\n",
      "Requirement already satisfied: python-dateutil>=2.8.1 in /usr/local/lib/python3.9/dist-packages (from pandas>=1.3.0->yfinance) (2.8.2)\n",
      "Requirement already satisfied: idna<4,>=2.5 in /usr/local/lib/python3.9/dist-packages (from requests>=2.26->yfinance) (3.4)\n",
      "Requirement already satisfied: certifi>=2017.4.17 in /usr/local/lib/python3.9/dist-packages (from requests>=2.26->yfinance) (2022.12.7)\n",
      "Requirement already satisfied: urllib3<1.27,>=1.21.1 in /usr/local/lib/python3.9/dist-packages (from requests>=2.26->yfinance) (1.26.15)\n",
      "Requirement already satisfied: charset-normalizer~=2.0.0 in /usr/local/lib/python3.9/dist-packages (from requests>=2.26->yfinance) (2.0.12)\n",
      "Requirement already satisfied: pycparser in /usr/local/lib/python3.9/dist-packages (from cffi>=1.12->cryptography>=3.3.2->yfinance) (2.21)\n"
     ]
    }
   ]
  },
  {
   "cell_type": "code",
   "execution_count": null,
   "metadata": {
    "id": "gAQhNSl2uDYm",
    "pycharm": {
     "name": "#%%\n"
    }
   },
   "outputs": [],
   "source": [
    "import numpy as np \n",
    "import pandas as pd\n",
    "import matplotlib.pyplot as plt\n",
    "import seaborn as sns\n",
    "from datetime import datetime\n",
    "import warnings\n",
    "warnings.filterwarnings('ignore')\n",
    "import scipy.stats as st\n",
    "#import torch\n",
    "import yfinance as yf"
   ]
  },
  {
   "cell_type": "code",
   "source": [
    "class Stonk():\n",
    "    def __init__(self, ticker):\n",
    "        self.ticker = ticker\n",
    "        stock = yf.Ticker(ticker)\n",
    "\n",
    "        end_date = datetime.now().strftime('%Y-%m-%d')\n",
    "        stock_hist = yf.download(ticker, start='2010-01-01', end='2023-01-01')\n",
    "\n",
    "        stock_df = pd.DataFrame(stock_hist)\n",
    "        stock_df.dropna(inplace = True, axis = 0)\n",
    "\n",
    "        stock_df['pct_change'] = stock_df['Adj Close'].pct_change()*100\n",
    "        stock_df['1W change'] = stock_df['Adj Close']\n",
    "\n",
    "        for i in range(len(stock_df)):\n",
    "            limit = len(stock_df) - 4\n",
    "            if i < limit:\n",
    "                stock_df['1W change'][i] = ((stock_df['Adj Close'][i+4] - stock_df['Adj Close'][i])/stock_df['Adj Close'][i])*100\n",
    "            else:\n",
    "                stock_df['1W change'][i] = None\n",
    "\n",
    "        stock_df.dropna(inplace = True, axis = 0)\n",
    "\n",
    "        self.data = stock_df\n",
    "\n",
    "    def display(self, isweekly=False):\n",
    "        if isweekly:\n",
    "            self.data['1W change'].hist(bins = 50, figsize = (10,5))\n",
    "            plt.xlabel(f'{self.ticker} Daily returns')\n",
    "            plt.ylabel('Frequency')\n",
    "            plt.show()\n",
    "            #self.data['1W change '].iloc[0:].describe().astype(int)\n",
    "        else:\n",
    "            self.data['pct_change'].hist(bins = 50, figsize = (10,5)) \n",
    "            plt.xlabel(f'{self.ticker} Daily returns')\n",
    "            plt.ylabel('Frequency')\n",
    "            plt.show()\n",
    "            self.data['pct_change'].iloc[0:].describe().astype(int)\n",
    "        #satistics\n",
    "\n",
    "    \n",
    "    #get confidence interval for percent changes\n",
    "    def CI(self, conf=0.9):\n",
    "        data = self.data['pct_change']\n",
    "        #interval = st.norm.interval(alpha=conf, loc=np.mean(data), scale=st.sem(data))\n",
    "        #interval = st.t.interval(alpha=conf, df=len(self.data['pct_change'])-1, loc=np.mean(self.data['pct_change']), scale=st.sem(self.data['pct_change']))\n",
    "        interval = st.norm.interval(alpha=conf, loc=np.median(data), scale=1)\n",
    "        return interval\n",
    "    \n",
    "    def weeklyCI(self, conf=0.9):\n",
    "        data = self.data['1W change']\n",
    "        #interval = st.norm.interval(alpha=conf, loc=np.mean(data), scale=st.sem(data))\n",
    "        #interval = st.t.interval(alpha=conf, df=len(self.data['pct_change'])-1, loc=np.mean(self.data['pct_change']), scale=st.sem(self.data['pct_change']))\n",
    "        interval = st.norm.interval(alpha=conf, loc=np.median(data), scale=1)\n",
    "        return interval\n",
    "\n",
    "    def plot6MweeklyCI(self, conf=0.9):\n",
    "        conf_intervals = []\n",
    "        for i in range(0,len(self.data)):\n",
    "          data = self.data['1W change'][i:26+i]\n",
    "          interval = st.norm.interval(alpha=conf, loc=np.median(data), scale=1)\n",
    "          # print(str(interval))\n",
    "          conf_intervals.append([interval])\n",
    "\n",
    "        x = np.arange(0,len(self.data), 1)\n",
    "        plt.plot(x, conf_intervals[0], label='Interval Lower')\n",
    "        plt.plot(x, conf_intervals[1], label='Interval Upper')\n",
    "        # plt.plot(x, BS_prices, label='BS')\n",
    "        plt.title('Interval over Time')\n",
    "        plt.legend()\n",
    "        plt.show()\n"
   ],
   "metadata": {
    "id": "GUn2eEt8vEEX",
    "pycharm": {
     "name": "#%%\n"
    }
   },
   "execution_count": 28,
   "outputs": []
  },
  {
   "cell_type": "code",
   "source": [
    "#table=pd.read_html('https://en.wikipedia.org/wiki/List_of_S%26P_500_companies')\n",
    "table=pd.read_html('https://en.wikipedia.org/wiki/Dow_Jones_Industrial_Average#Components')\n",
    "df = table[1]\n",
    "df.to_csv('S&P500-Info.csv')\n",
    "df.to_csv(\"S&P500-Symbols.csv\", columns=['Symbol'])\n",
    "\n",
    "df = df['Symbol']\n",
    "\n",
    "df.dropna(inplace=True, axis=0)"
   ],
   "metadata": {
    "id": "Fwnuk82Sx7Dx",
    "pycharm": {
     "name": "#%%\n"
    }
   },
   "execution_count": null,
   "outputs": []
  },
  {
   "cell_type": "code",
   "source": [
    "stock = Stonk('SPY')\n",
    "stock.data"
   ],
   "metadata": {
    "id": "YLKrSr5r_dKC",
    "pycharm": {
     "name": "#%%\n"
    }
   },
   "execution_count": null,
   "outputs": []
  },
  {
   "cell_type": "code",
   "source": [
    "conf_intervals = []\n",
    "confidence = .95\n",
    "for ticker in df:\n",
    "  #ticker = 'SPY'\n",
    "  placeholder = Stonk(ticker)\n",
    "  placeholder.display(isweekly=True)\n",
    "  interval = placeholder.weeklyCI(confidence)\n",
    "  conf_intervals.append([ticker, interval])"
   ],
   "metadata": {
    "id": "pdjmCWso3ZQl",
    "pycharm": {
     "name": "#%%\n"
    }
   },
   "execution_count": null,
   "outputs": []
  },
  {
   "cell_type": "code",
   "source": [
    "tickers = ['SPY', 'QQQ']\n",
    "for ticker in tickers:\n",
    "  #ticker = 'SPY'\n",
    "  placeholder = Stonk(ticker)\n",
    "  placeholder.display()\n",
    "  interval = placeholder.CI(confidence)\n",
    "  conf_intervals.append([ticker, interval])"
   ],
   "metadata": {
    "id": "fNqy4BOr9viH",
    "pycharm": {
     "name": "#%%\n"
    }
   },
   "execution_count": null,
   "outputs": []
  },
  {
   "cell_type": "code",
   "source": [
    "print(f\"{confidence}% Confidence Intervals for DOW30, and SPY+QQQ\")\n",
    "print()\n",
    "conf_intervals"
   ],
   "metadata": {
    "id": "Lif4cevv6itf",
    "pycharm": {
     "name": "#%%\n"
    }
   },
   "execution_count": null,
   "outputs": []
  },
  {
   "cell_type": "code",
   "source": [
    "placeholder.data"
   ],
   "metadata": {
    "id": "EjDlXT8K-6jt",
    "pycharm": {
     "name": "#%%\n"
    }
   },
   "execution_count": null,
   "outputs": []
  },
  {
   "cell_type": "code",
   "source": [
    "# conf_intervals = []\n",
    "confidence = .95\n",
    "# for ticker in df:\n",
    "ticker = 'SPY'\n",
    "placeholder = Stonk(ticker)\n",
    "placeholder.display(isweekly=True)\n",
    "placeholder.plot6MweeklyCI(confidence)\n",
    "# interval = placeholder.weeklyCI(confidence)\n",
    "# conf_intervals.append([ticker, interval])"
   ],
   "metadata": {
    "colab": {
     "base_uri": "https://localhost:8080/",
     "height": 1000
    },
    "id": "OXQVu03qTZ_6",
    "outputId": "b588947a-58ce-45b7-945c-28f31ad873b3",
    "pycharm": {
     "name": "#%%\n"
    }
   },
   "execution_count": 29,
   "outputs": [
    {
     "output_type": "stream",
     "name": "stdout",
     "text": [
      "\r[*********************100%***********************]  1 of 1 completed\n"
     ]
    },
    {
     "output_type": "display_data",
     "data": {
      "text/plain": [
       "<Figure size 1000x500 with 1 Axes>"
      ],
      "image/png": "[encoded data removed]"
     },
     "metadata": {}
    },
    {
     "output_type": "error",
     "ename": "ValueError",
     "evalue": "ignored",
     "traceback": [
      "\u001B[0;31m---------------------------------------------------------------------------\u001B[0m",
      "\u001B[0;31mValueError\u001B[0m                                Traceback (most recent call last)",
      "\u001B[0;32m<ipython-input-29-8eda3a9680d2>\u001B[0m in \u001B[0;36m<cell line: 7>\u001B[0;34m()\u001B[0m\n\u001B[1;32m      5\u001B[0m \u001B[0mplaceholder\u001B[0m \u001B[0;34m=\u001B[0m \u001B[0mStonk\u001B[0m\u001B[0;34m(\u001B[0m\u001B[0mticker\u001B[0m\u001B[0;34m)\u001B[0m\u001B[0;34m\u001B[0m\u001B[0;34m\u001B[0m\u001B[0m\n\u001B[1;32m      6\u001B[0m \u001B[0mplaceholder\u001B[0m\u001B[0;34m.\u001B[0m\u001B[0mdisplay\u001B[0m\u001B[0;34m(\u001B[0m\u001B[0misweekly\u001B[0m\u001B[0;34m=\u001B[0m\u001B[0;32mTrue\u001B[0m\u001B[0;34m)\u001B[0m\u001B[0;34m\u001B[0m\u001B[0;34m\u001B[0m\u001B[0m\n\u001B[0;32m----> 7\u001B[0;31m \u001B[0mplaceholder\u001B[0m\u001B[0;34m.\u001B[0m\u001B[0mplot6MweeklyCI\u001B[0m\u001B[0;34m(\u001B[0m\u001B[0mconfidence\u001B[0m\u001B[0;34m)\u001B[0m\u001B[0;34m\u001B[0m\u001B[0;34m\u001B[0m\u001B[0m\n\u001B[0m\u001B[1;32m      8\u001B[0m \u001B[0;31m# interval = placeholder.weeklyCI(confidence)\u001B[0m\u001B[0;34m\u001B[0m\u001B[0;34m\u001B[0m\u001B[0m\n\u001B[1;32m      9\u001B[0m \u001B[0;31m# conf_intervals.append([ticker, interval])\u001B[0m\u001B[0;34m\u001B[0m\u001B[0;34m\u001B[0m\u001B[0m\n",
      "\u001B[0;32m<ipython-input-28-39c855f301a6>\u001B[0m in \u001B[0;36mplot6MweeklyCI\u001B[0;34m(self, conf)\u001B[0m\n\u001B[1;32m     64\u001B[0m \u001B[0;34m\u001B[0m\u001B[0m\n\u001B[1;32m     65\u001B[0m         \u001B[0mx\u001B[0m \u001B[0;34m=\u001B[0m \u001B[0mnp\u001B[0m\u001B[0;34m.\u001B[0m\u001B[0marange\u001B[0m\u001B[0;34m(\u001B[0m\u001B[0;36m0\u001B[0m\u001B[0;34m,\u001B[0m\u001B[0mlen\u001B[0m\u001B[0;34m(\u001B[0m\u001B[0mself\u001B[0m\u001B[0;34m.\u001B[0m\u001B[0mdata\u001B[0m\u001B[0;34m)\u001B[0m\u001B[0;34m,\u001B[0m \u001B[0;36m1\u001B[0m\u001B[0;34m)\u001B[0m\u001B[0;34m\u001B[0m\u001B[0;34m\u001B[0m\u001B[0m\n\u001B[0;32m---> 66\u001B[0;31m         \u001B[0mplt\u001B[0m\u001B[0;34m.\u001B[0m\u001B[0mplot\u001B[0m\u001B[0;34m(\u001B[0m\u001B[0mx\u001B[0m\u001B[0;34m,\u001B[0m \u001B[0mconf_intervals\u001B[0m\u001B[0;34m[\u001B[0m\u001B[0;36m0\u001B[0m\u001B[0;34m]\u001B[0m\u001B[0;34m,\u001B[0m \u001B[0mlabel\u001B[0m\u001B[0;34m=\u001B[0m\u001B[0;34m'Interval Lower'\u001B[0m\u001B[0;34m)\u001B[0m\u001B[0;34m\u001B[0m\u001B[0;34m\u001B[0m\u001B[0m\n\u001B[0m\u001B[1;32m     67\u001B[0m         \u001B[0mplt\u001B[0m\u001B[0;34m.\u001B[0m\u001B[0mplot\u001B[0m\u001B[0;34m(\u001B[0m\u001B[0mx\u001B[0m\u001B[0;34m,\u001B[0m \u001B[0mconf_intervals\u001B[0m\u001B[0;34m[\u001B[0m\u001B[0;36m1\u001B[0m\u001B[0;34m]\u001B[0m\u001B[0;34m,\u001B[0m \u001B[0mlabel\u001B[0m\u001B[0;34m=\u001B[0m\u001B[0;34m'Interval Upper'\u001B[0m\u001B[0;34m)\u001B[0m\u001B[0;34m\u001B[0m\u001B[0;34m\u001B[0m\u001B[0m\n\u001B[1;32m     68\u001B[0m         \u001B[0;31m# plt.plot(x, BS_prices, label='BS')\u001B[0m\u001B[0;34m\u001B[0m\u001B[0;34m\u001B[0m\u001B[0m\n",
      "\u001B[0;32m/usr/local/lib/python3.9/dist-packages/matplotlib/pyplot.py\u001B[0m in \u001B[0;36mplot\u001B[0;34m(scalex, scaley, data, *args, **kwargs)\u001B[0m\n\u001B[1;32m   2810\u001B[0m \u001B[0;34m@\u001B[0m\u001B[0m_copy_docstring_and_deprecators\u001B[0m\u001B[0;34m(\u001B[0m\u001B[0mAxes\u001B[0m\u001B[0;34m.\u001B[0m\u001B[0mplot\u001B[0m\u001B[0;34m)\u001B[0m\u001B[0;34m\u001B[0m\u001B[0;34m\u001B[0m\u001B[0m\n\u001B[1;32m   2811\u001B[0m \u001B[0;32mdef\u001B[0m \u001B[0mplot\u001B[0m\u001B[0;34m(\u001B[0m\u001B[0;34m*\u001B[0m\u001B[0margs\u001B[0m\u001B[0;34m,\u001B[0m \u001B[0mscalex\u001B[0m\u001B[0;34m=\u001B[0m\u001B[0;32mTrue\u001B[0m\u001B[0;34m,\u001B[0m \u001B[0mscaley\u001B[0m\u001B[0;34m=\u001B[0m\u001B[0;32mTrue\u001B[0m\u001B[0;34m,\u001B[0m \u001B[0mdata\u001B[0m\u001B[0;34m=\u001B[0m\u001B[0;32mNone\u001B[0m\u001B[0;34m,\u001B[0m \u001B[0;34m**\u001B[0m\u001B[0mkwargs\u001B[0m\u001B[0;34m)\u001B[0m\u001B[0;34m:\u001B[0m\u001B[0;34m\u001B[0m\u001B[0;34m\u001B[0m\u001B[0m\n\u001B[0;32m-> 2812\u001B[0;31m     return gca().plot(\n\u001B[0m\u001B[1;32m   2813\u001B[0m         \u001B[0;34m*\u001B[0m\u001B[0margs\u001B[0m\u001B[0;34m,\u001B[0m \u001B[0mscalex\u001B[0m\u001B[0;34m=\u001B[0m\u001B[0mscalex\u001B[0m\u001B[0;34m,\u001B[0m \u001B[0mscaley\u001B[0m\u001B[0;34m=\u001B[0m\u001B[0mscaley\u001B[0m\u001B[0;34m,\u001B[0m\u001B[0;34m\u001B[0m\u001B[0;34m\u001B[0m\u001B[0m\n\u001B[1;32m   2814\u001B[0m         **({\"data\": data} if data is not None else {}), **kwargs)\n",
      "\u001B[0;32m/usr/local/lib/python3.9/dist-packages/matplotlib/axes/_axes.py\u001B[0m in \u001B[0;36mplot\u001B[0;34m(self, scalex, scaley, data, *args, **kwargs)\u001B[0m\n\u001B[1;32m   1686\u001B[0m         \"\"\"\n\u001B[1;32m   1687\u001B[0m         \u001B[0mkwargs\u001B[0m \u001B[0;34m=\u001B[0m \u001B[0mcbook\u001B[0m\u001B[0;34m.\u001B[0m\u001B[0mnormalize_kwargs\u001B[0m\u001B[0;34m(\u001B[0m\u001B[0mkwargs\u001B[0m\u001B[0;34m,\u001B[0m \u001B[0mmlines\u001B[0m\u001B[0;34m.\u001B[0m\u001B[0mLine2D\u001B[0m\u001B[0;34m)\u001B[0m\u001B[0;34m\u001B[0m\u001B[0;34m\u001B[0m\u001B[0m\n\u001B[0;32m-> 1688\u001B[0;31m         \u001B[0mlines\u001B[0m \u001B[0;34m=\u001B[0m \u001B[0;34m[\u001B[0m\u001B[0;34m*\u001B[0m\u001B[0mself\u001B[0m\u001B[0;34m.\u001B[0m\u001B[0m_get_lines\u001B[0m\u001B[0;34m(\u001B[0m\u001B[0;34m*\u001B[0m\u001B[0margs\u001B[0m\u001B[0;34m,\u001B[0m \u001B[0mdata\u001B[0m\u001B[0;34m=\u001B[0m\u001B[0mdata\u001B[0m\u001B[0;34m,\u001B[0m \u001B[0;34m**\u001B[0m\u001B[0mkwargs\u001B[0m\u001B[0;34m)\u001B[0m\u001B[0;34m]\u001B[0m\u001B[0;34m\u001B[0m\u001B[0;34m\u001B[0m\u001B[0m\n\u001B[0m\u001B[1;32m   1689\u001B[0m         \u001B[0;32mfor\u001B[0m \u001B[0mline\u001B[0m \u001B[0;32min\u001B[0m \u001B[0mlines\u001B[0m\u001B[0;34m:\u001B[0m\u001B[0;34m\u001B[0m\u001B[0;34m\u001B[0m\u001B[0m\n\u001B[1;32m   1690\u001B[0m             \u001B[0mself\u001B[0m\u001B[0;34m.\u001B[0m\u001B[0madd_line\u001B[0m\u001B[0;34m(\u001B[0m\u001B[0mline\u001B[0m\u001B[0;34m)\u001B[0m\u001B[0;34m\u001B[0m\u001B[0;34m\u001B[0m\u001B[0m\n",
      "\u001B[0;32m/usr/local/lib/python3.9/dist-packages/matplotlib/axes/_base.py\u001B[0m in \u001B[0;36m__call__\u001B[0;34m(self, data, *args, **kwargs)\u001B[0m\n\u001B[1;32m    309\u001B[0m                 \u001B[0mthis\u001B[0m \u001B[0;34m+=\u001B[0m \u001B[0margs\u001B[0m\u001B[0;34m[\u001B[0m\u001B[0;36m0\u001B[0m\u001B[0;34m]\u001B[0m\u001B[0;34m,\u001B[0m\u001B[0;34m\u001B[0m\u001B[0;34m\u001B[0m\u001B[0m\n\u001B[1;32m    310\u001B[0m                 \u001B[0margs\u001B[0m \u001B[0;34m=\u001B[0m \u001B[0margs\u001B[0m\u001B[0;34m[\u001B[0m\u001B[0;36m1\u001B[0m\u001B[0;34m:\u001B[0m\u001B[0;34m]\u001B[0m\u001B[0;34m\u001B[0m\u001B[0;34m\u001B[0m\u001B[0m\n\u001B[0;32m--> 311\u001B[0;31m             yield from self._plot_args(\n\u001B[0m\u001B[1;32m    312\u001B[0m                 this, kwargs, ambiguous_fmt_datakey=ambiguous_fmt_datakey)\n\u001B[1;32m    313\u001B[0m \u001B[0;34m\u001B[0m\u001B[0m\n",
      "\u001B[0;32m/usr/local/lib/python3.9/dist-packages/matplotlib/axes/_base.py\u001B[0m in \u001B[0;36m_plot_args\u001B[0;34m(self, tup, kwargs, return_kwargs, ambiguous_fmt_datakey)\u001B[0m\n\u001B[1;32m    502\u001B[0m \u001B[0;34m\u001B[0m\u001B[0m\n\u001B[1;32m    503\u001B[0m         \u001B[0;32mif\u001B[0m \u001B[0mx\u001B[0m\u001B[0;34m.\u001B[0m\u001B[0mshape\u001B[0m\u001B[0;34m[\u001B[0m\u001B[0;36m0\u001B[0m\u001B[0;34m]\u001B[0m \u001B[0;34m!=\u001B[0m \u001B[0my\u001B[0m\u001B[0;34m.\u001B[0m\u001B[0mshape\u001B[0m\u001B[0;34m[\u001B[0m\u001B[0;36m0\u001B[0m\u001B[0;34m]\u001B[0m\u001B[0;34m:\u001B[0m\u001B[0;34m\u001B[0m\u001B[0;34m\u001B[0m\u001B[0m\n\u001B[0;32m--> 504\u001B[0;31m             raise ValueError(f\"x and y must have same first dimension, but \"\n\u001B[0m\u001B[1;32m    505\u001B[0m                              f\"have shapes {x.shape} and {y.shape}\")\n\u001B[1;32m    506\u001B[0m         \u001B[0;32mif\u001B[0m \u001B[0mx\u001B[0m\u001B[0;34m.\u001B[0m\u001B[0mndim\u001B[0m \u001B[0;34m>\u001B[0m \u001B[0;36m2\u001B[0m \u001B[0;32mor\u001B[0m \u001B[0my\u001B[0m\u001B[0;34m.\u001B[0m\u001B[0mndim\u001B[0m \u001B[0;34m>\u001B[0m \u001B[0;36m2\u001B[0m\u001B[0;34m:\u001B[0m\u001B[0;34m\u001B[0m\u001B[0;34m\u001B[0m\u001B[0m\n",
      "\u001B[0;31mValueError\u001B[0m: x and y must have same first dimension, but have shapes (3267,) and (1, 2)"
     ]
    },
    {
     "output_type": "display_data",
     "data": {
      "text/plain": [
       "<Figure size 640x480 with 1 Axes>"
      ],
      "image/png": "[encoded data removed]"
     },
     "metadata": {}
    }
   ]
  }
 ]
}