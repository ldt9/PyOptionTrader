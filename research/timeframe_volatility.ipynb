{
 "cells": [
  {
   "cell_type": "code",
   "execution_count": 43,
   "outputs": [
    {
     "name": "stdout",
     "output_type": "stream",
     "text": [
      "Collecting fix_yahoo_finance\n",
      "  Downloading fix-yahoo-finance-0.1.37.tar.gz (6.3 kB)\n",
      "  Preparing metadata (setup.py): started\n",
      "  Preparing metadata (setup.py): finished with status 'done'\n",
      "Requirement already satisfied: yfinance in c:\\users\\14845\\documents\\pyoptiontrador\\venv_laptop\\lib\\site-packages (from fix_yahoo_finance) (0.2.13)\n",
      "Requirement already satisfied: requests>=2.26 in c:\\users\\14845\\documents\\pyoptiontrador\\venv_laptop\\lib\\site-packages (from yfinance->fix_yahoo_finance) (2.28.2)\n",
      "Requirement already satisfied: appdirs>=1.4.4 in c:\\users\\14845\\documents\\pyoptiontrador\\venv_laptop\\lib\\site-packages (from yfinance->fix_yahoo_finance) (1.4.4)\n",
      "Requirement already satisfied: beautifulsoup4>=4.11.1 in c:\\users\\14845\\documents\\pyoptiontrador\\venv_laptop\\lib\\site-packages (from yfinance->fix_yahoo_finance) (4.12.2)\n",
      "Requirement already satisfied: cryptography>=3.3.2 in c:\\users\\14845\\documents\\pyoptiontrador\\venv_laptop\\lib\\site-packages (from yfinance->fix_yahoo_finance) (40.0.1)\n",
      "Requirement already satisfied: multitasking>=0.0.7 in c:\\users\\14845\\documents\\pyoptiontrador\\venv_laptop\\lib\\site-packages (from yfinance->fix_yahoo_finance) (0.0.11)\n",
      "Requirement already satisfied: pandas>=1.3.0 in c:\\users\\14845\\documents\\pyoptiontrador\\venv_laptop\\lib\\site-packages (from yfinance->fix_yahoo_finance) (2.0.0)\n",
      "Requirement already satisfied: lxml>=4.9.1 in c:\\users\\14845\\documents\\pyoptiontrador\\venv_laptop\\lib\\site-packages (from yfinance->fix_yahoo_finance) (4.9.2)\n",
      "Requirement already satisfied: html5lib>=1.1 in c:\\users\\14845\\documents\\pyoptiontrador\\venv_laptop\\lib\\site-packages (from yfinance->fix_yahoo_finance) (1.1)\n",
      "Requirement already satisfied: frozendict>=2.3.4 in c:\\users\\14845\\documents\\pyoptiontrador\\venv_laptop\\lib\\site-packages (from yfinance->fix_yahoo_finance) (2.3.6)\n",
      "Requirement already satisfied: numpy>=1.16.5 in c:\\users\\14845\\documents\\pyoptiontrador\\venv_laptop\\lib\\site-packages (from yfinance->fix_yahoo_finance) (1.24.2)\n",
      "Requirement already satisfied: pytz>=2022.5 in c:\\users\\14845\\documents\\pyoptiontrador\\venv_laptop\\lib\\site-packages (from yfinance->fix_yahoo_finance) (2023.3)\n",
      "Requirement already satisfied: soupsieve>1.2 in c:\\users\\14845\\documents\\pyoptiontrador\\venv_laptop\\lib\\site-packages (from beautifulsoup4>=4.11.1->yfinance->fix_yahoo_finance) (2.4)\n",
      "Requirement already satisfied: cffi>=1.12 in c:\\users\\14845\\documents\\pyoptiontrador\\venv_laptop\\lib\\site-packages (from cryptography>=3.3.2->yfinance->fix_yahoo_finance) (1.15.1)\n",
      "Requirement already satisfied: six>=1.9 in c:\\users\\14845\\documents\\pyoptiontrador\\venv_laptop\\lib\\site-packages (from html5lib>=1.1->yfinance->fix_yahoo_finance) (1.16.0)\n",
      "Requirement already satisfied: webencodings in c:\\users\\14845\\documents\\pyoptiontrador\\venv_laptop\\lib\\site-packages (from html5lib>=1.1->yfinance->fix_yahoo_finance) (0.5.1)\n",
      "Requirement already satisfied: python-dateutil>=2.8.2 in c:\\users\\14845\\documents\\pyoptiontrador\\venv_laptop\\lib\\site-packages (from pandas>=1.3.0->yfinance->fix_yahoo_finance) (2.8.2)\n",
      "Requirement already satisfied: tzdata>=2022.1 in c:\\users\\14845\\documents\\pyoptiontrador\\venv_laptop\\lib\\site-packages (from pandas>=1.3.0->yfinance->fix_yahoo_finance) (2023.3)\n",
      "Requirement already satisfied: urllib3<1.27,>=1.21.1 in c:\\users\\14845\\documents\\pyoptiontrador\\venv_laptop\\lib\\site-packages (from requests>=2.26->yfinance->fix_yahoo_finance) (1.26.15)\n",
      "Requirement already satisfied: idna<4,>=2.5 in c:\\users\\14845\\documents\\pyoptiontrador\\venv_laptop\\lib\\site-packages (from requests>=2.26->yfinance->fix_yahoo_finance) (3.4)\n",
      "Requirement already satisfied: charset-normalizer<4,>=2 in c:\\users\\14845\\documents\\pyoptiontrador\\venv_laptop\\lib\\site-packages (from requests>=2.26->yfinance->fix_yahoo_finance) (3.1.0)\n",
      "Requirement already satisfied: certifi>=2017.4.17 in c:\\users\\14845\\documents\\pyoptiontrador\\venv_laptop\\lib\\site-packages (from requests>=2.26->yfinance->fix_yahoo_finance) (2022.12.7)\n",
      "Requirement already satisfied: pycparser in c:\\users\\14845\\documents\\pyoptiontrador\\venv_laptop\\lib\\site-packages (from cffi>=1.12->cryptography>=3.3.2->yfinance->fix_yahoo_finance) (2.21)\n",
      "Building wheels for collected packages: fix-yahoo-finance\n",
      "  Building wheel for fix-yahoo-finance (setup.py): started\n",
      "  Building wheel for fix-yahoo-finance (setup.py): finished with status 'done'\n",
      "  Created wheel for fix-yahoo-finance: filename=fix_yahoo_finance-0.1.37-py3-none-any.whl size=7075 sha256=f04153807617036a803e421e88ceda158bd0e5c5ebae7dc6479d3cb36ec1cc2b\n",
      "  Stored in directory: C:\\Users\\14845\\AppData\\Local\\Temp\\pip-ephem-wheel-cache-sj1b8axr\\wheels\\18\\2c\\e3\\1bd1cfc353b5d4059e245f59277f1ffb0dd11677828048039a\n",
      "Successfully built fix-yahoo-finance\n",
      "Installing collected packages: fix-yahoo-finance\n",
      "Successfully installed fix-yahoo-finance-0.1.37\n"
     ]
    },
    {
     "name": "stderr",
     "output_type": "stream",
     "text": [
      "WARNING: You are using pip version 21.3.1; however, version 23.0.1 is available.\n",
      "You should consider upgrading via the 'C:\\Users\\14845\\Documents\\pyoptiontrador\\venv_laptop\\Scripts\\python.exe -m pip install --upgrade pip' command.\n"
     ]
    }
   ],
   "source": [
    "!pip install fix_yahoo_finance --upgrade --no-cache-dir"
   ],
   "metadata": {
    "collapsed": false,
    "pycharm": {
     "name": "#%%\n"
    }
   }
  },
  {
   "cell_type": "code",
   "execution_count": 45,
   "outputs": [],
   "source": [
    "import pandas_datareader as pdr\n",
    "import yfinance as yf\n",
    "import datetime as dt\n",
    "import pandas as pd\n",
    "import numpy as np\n",
    "import matplotlib.pyplot as plt"
   ],
   "metadata": {
    "collapsed": false,
    "pycharm": {
     "name": "#%%\n"
    }
   }
  },
  {
   "cell_type": "code",
   "execution_count": 47,
   "outputs": [
    {
     "name": "stdout",
     "output_type": "stream",
     "text": [
      "[*********************100%***********************]  1 of 1 completed\n",
      "\n",
      "1 Failed download:\n",
      "- AAPL: No data found for this date range, symbol may be delisted\n"
     ]
    }
   ],
   "source": [
    "# get stock data\n",
    "stock = yf.download('AAPL', start='2018-01-01', end='2019-01-01')"
   ],
   "metadata": {
    "collapsed": false,
    "pycharm": {
     "name": "#%%\n"
    }
   }
  },
  {
   "cell_type": "code",
   "execution_count": 31,
   "outputs": [],
   "source": [],
   "metadata": {
    "collapsed": false,
    "pycharm": {
     "name": "#%%\n"
    }
   }
  },
  {
   "cell_type": "code",
   "execution_count": null,
   "outputs": [],
   "source": [],
   "metadata": {
    "collapsed": false,
    "pycharm": {
     "name": "#%%\n"
    }
   }
  }
 ],
 "metadata": {
  "kernelspec": {
   "display_name": "Python 3",
   "language": "python",
   "name": "python3"
  },
  "language_info": {
   "codemirror_mode": {
    "name": "ipython",
    "version": 2
   },
   "file_extension": ".py",
   "mimetype": "text/x-python",
   "name": "python",
   "nbconvert_exporter": "python",
   "pygments_lexer": "ipython2",
   "version": "2.7.6"
  }
 },
 "nbformat": 4,
 "nbformat_minor": 0
}